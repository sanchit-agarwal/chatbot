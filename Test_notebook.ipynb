{
 "cells": [
  {
   "cell_type": "markdown",
   "metadata": {
    "id": "TUxLSeOtJCxJ"
   },
   "source": [
    "**NLP - COM3029 & COMM061 - Group 15**\n",
    "- Abdelkader Bouregag (6707271)\n",
    "- Sanchit Agarwal (6707777)\n",
    "-\n",
    "-\n",
    "-"
   ]
  },
  {
   "cell_type": "markdown",
   "metadata": {},
   "source": [
    "### Introduction\n",
    "\n",
    "This project aims at developing, and critically assessing, a task-oriented dialog chatbot. The chatbot in question is designed to help the user book a holiday trip package. In order to achieve this, the chatbot requires the following information from the user:\n",
    "<ul>\n",
    "<li>Source City</li>\n",
    "<li>Destination City</li>\n",
    "<li>No of people</li>\n",
    "<li>Start Date</li>\n",
    "<li>End Date</li>\n",
    "<li>Budget</li>\n",
    "</ul>\n",
    "\n",
    "There are three main components to the chatbot:\n",
    "<ol>\n",
    "    <li>Intent Classifier</li>\n",
    "    <li>Named Entity Recogniziner</li>\n",
    "    <li>Dialog Flow Manager</li>\n",
    "</ol>\n"
   ]
  },
  {
   "cell_type": "markdown",
   "metadata": {
    "id": "fzhBOQnQCkkM"
   },
   "source": [
    "#**1- Model Serving options: (Gopi)**"
   ]
  },
  {
   "cell_type": "code",
   "execution_count": null,
   "metadata": {
    "id": "sfXhZv9OCqYR"
   },
   "outputs": [],
   "source": []
  },
  {
   "cell_type": "markdown",
   "metadata": {
    "id": "3I4Jr4DYCrY5"
   },
   "source": [
    "#**2- Chatbot components:**"
   ]
  },
  {
   "cell_type": "code",
   "execution_count": null,
   "metadata": {
    "id": "ONEiqj7yC6k3"
   },
   "outputs": [],
   "source": []
  },
  {
   "cell_type": "markdown",
   "metadata": {
    "id": "K9KGHFw0C7bH"
   },
   "source": [
    "##a- Intent Classification (Kader)"
   ]
  },
  {
   "cell_type": "markdown",
   "metadata": {
    "id": "OGOVr8VFFiUk"
   },
   "source": [
    "Intenet component is reponsible for predicting the intent of a text. This component have two end-points: \n",
    "- /predict: Which takes a text as an input and perform the preprocessing as well as prediction of intent and returns an intent.\n",
    "- /train: which perform a training of a new model,"
   ]
  },
  {
   "cell_type": "code",
   "execution_count": null,
   "metadata": {
    "id": "4GlX0E_ZC_47"
   },
   "outputs": [],
   "source": []
  },
  {
   "cell_type": "markdown",
   "metadata": {
    "id": "RkFFhdLuDAbs"
   },
   "source": [
    "##b- Name Entity recognition ( Rosmin )"
   ]
  },
  {
   "cell_type": "code",
   "execution_count": null,
   "metadata": {
    "id": "3RZkMJ2eDIsZ"
   },
   "outputs": [],
   "source": []
  },
  {
   "cell_type": "markdown",
   "metadata": {
    "id": "qrhhJe_lDJKZ"
   },
   "source": [
    "### c- Dialogue Flow (Sanchit)"
   ]
  },
  {
   "cell_type": "markdown",
   "metadata": {
    "id": "c9bAHcXhDMY5"
   },
   "source": [
    "The dialog flow componenent is responsible for managing the state of the chatbot and deciding on the next course of action based on the policy established according to the business requirements. This component also develops the response sentence based on the state of the chatbot and what more information does it needs to reach the target state. \n",
    "\n",
    "For this project, we have implemented a rule based dialog state tracker which uses the predicted intent from the Intent Classifier component, alongside with the previous state of the chatbot, to establish the next state of the chatbot.\n",
    "\n",
    "The possible states the chatbot could be in are:\n",
    "<ul>\n",
    "    <li><h4>Greetings</h4><p>Initial state of the chatbot. This state is transitioned from a dummy state. This is due to the limitation of the pyTransitions library</p></li>\n",
    "        <li><h4>Question</h4><p>In this stage, chatbot asks a question to the user, especially when it detects that the user doesnn't intent to book a trip package.</p></li>\n",
    "        <li><h4>Inform</h4><p>In this stage, the chatbot queries the user to gather information it needs to successfully book the package</p></li>\n",
    "        <li><h4>Affirm</h4><p>Here, chatbot is basically confirming with the user whether it should execute the query (In this case, booking a trip package based on the information provided by the user)</p></li>\n",
    "        <li><h4>Update</h4><p>If the chatbot detects the user intents to update the information it has provided to the chatbot , the chatbot will transition to this state</p></li>\n",
    "        <li><h4>End</h4><p>The chatbot transitions to this state when it has completed its objective.</p></li>\n",
    "</ul>\n",
    "\n",
    "\n",
    "\n",
    "            \n",
    "This component provides the final endpoint to a functioning chatbot."
   ]
  },
  {
   "cell_type": "code",
   "execution_count": null,
   "metadata": {
    "id": "VBDNqkj-DXjB"
   },
   "outputs": [],
   "source": []
  },
  {
   "cell_type": "markdown",
   "metadata": {
    "id": "nY9pH7LHDZfL"
   },
   "source": [
    "#**3- Testing of Chatbot:** (Gopi)\n",
    "Build some functionality to perform testing on the deployed endpoint (i.e., some client function to consume the service via HTTP) and document your process and findings in the notebook. For example, in a “test” notebook you could show how to: a. initiate the chatbot (maybe some greeting like “hi”) b. make different types or requests (i.e., different intents) c. try to confuse it and see the reaction d. try to override a previous entry (for example changing the booking time to a different one) e. show a completed successful request (e.g., a booking, order, troubleshooting, etc.)"
   ]
  },
  {
   "cell_type": "code",
   "execution_count": null,
   "metadata": {
    "id": "skgbrC-jDvbs"
   },
   "outputs": [],
   "source": []
  },
  {
   "cell_type": "markdown",
   "metadata": {
    "id": "BY8JchtCELA6"
   },
   "source": [
    "#**4- Performance of Chatbot** (Gopi)\n",
    "\n",
    "Discuss the performance of the chatbot service you implemented (i.e., perform some stretch\n",
    "testing), and justify the good and bad points"
   ]
  },
  {
   "cell_type": "code",
   "execution_count": null,
   "metadata": {
    "id": "HTep6I0TEbHo"
   },
   "outputs": [],
   "source": []
  },
  {
   "cell_type": "markdown",
   "metadata": {
    "id": "nReWQJXmEd4B"
   },
   "source": [
    "#**5- Monitoring capability (log file)** (Kader)\n",
    "\n",
    "Build some basic monitoring capability to capture user inputs and the model predictions,\n",
    "and store those in a log file. There is no need to build functionality that will detect any\n",
    "concept drift"
   ]
  },
  {
   "cell_type": "code",
   "execution_count": null,
   "metadata": {
    "id": "8H4A7B1iEpHF"
   },
   "outputs": [],
   "source": []
  },
  {
   "cell_type": "markdown",
   "metadata": {
    "id": "1TUH_Xj2Er1j"
   },
   "source": [
    "#**6- CI/CD Pipeline:** (Vankat)\n",
    "\n",
    "Build a basic CI/CD pipeline that will build and deploy the chatbot components when data or\n",
    "code changes. There is no need to trigger this automatically, so a manually executed script\n",
    "will suffice."
   ]
  },
  {
   "cell_type": "code",
   "execution_count": null,
   "metadata": {
    "id": "ykTNERrtE0uf"
   },
   "outputs": [],
   "source": []
  },
  {
   "cell_type": "markdown",
   "metadata": {
    "id": "vFWyJwlbE90t"
   },
   "source": [
    "#**7-Link to 10 min screen recording demo** (Sanchit and Kader)"
   ]
  },
  {
   "cell_type": "code",
   "execution_count": null,
   "metadata": {
    "id": "_wyUgxtaFMQz"
   },
   "outputs": [],
   "source": []
  },
  {
   "cell_type": "markdown",
   "metadata": {
    "id": "c0Ln-W6-FRbt"
   },
   "source": [
    "**Submission Deadline: 25 Mai**"
   ]
  },
  {
   "cell_type": "code",
   "execution_count": null,
   "metadata": {
    "id": "B_lpVbhdFWvU"
   },
   "outputs": [],
   "source": []
  }
 ],
 "metadata": {
  "colab": {
   "name": "NLP Part 2.ipynb",
   "provenance": [],
   "toc_visible": true
  },
  "kernelspec": {
   "display_name": "Python 3 (ipykernel)",
   "language": "python",
   "name": "python3"
  },
  "language_info": {
   "codemirror_mode": {
    "name": "ipython",
    "version": 3
   },
   "file_extension": ".py",
   "mimetype": "text/x-python",
   "name": "python",
   "nbconvert_exporter": "python",
   "pygments_lexer": "ipython3",
   "version": "3.9.7"
  }
 },
 "nbformat": 4,
 "nbformat_minor": 1
}
