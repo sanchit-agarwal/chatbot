{
  "nbformat": 4,
  "nbformat_minor": 0,
  "metadata": {
    "colab": {
      "name": "NLP Part 2.ipynb",
      "provenance": [],
      "toc_visible": true
    },
    "kernelspec": {
      "name": "python3",
      "display_name": "Python 3"
    },
    "language_info": {
      "name": "python"
    }
  },
  "cells": [
    {
      "cell_type": "markdown",
      "source": [
        "**NLP - COM3029 & COMM061 - Group 15**\n",
        "- Abdelkader Bouregag (6707271)\n",
        "-\n",
        "-\n",
        "-\n",
        "-"
      ],
      "metadata": {
        "id": "TUxLSeOtJCxJ"
      }
    },
    {
      "cell_type": "markdown",
      "source": [
        "#**1- Model Serving options: (Gopi)**"
      ],
      "metadata": {
        "id": "fzhBOQnQCkkM"
      }
    },
    {
      "cell_type": "code",
      "source": [
        ""
      ],
      "metadata": {
        "id": "sfXhZv9OCqYR"
      },
      "execution_count": null,
      "outputs": []
    },
    {
      "cell_type": "markdown",
      "source": [
        "#**2- Chatbot components:**"
      ],
      "metadata": {
        "id": "3I4Jr4DYCrY5"
      }
    },
    {
      "cell_type": "code",
      "source": [
        ""
      ],
      "metadata": {
        "id": "ONEiqj7yC6k3"
      },
      "execution_count": null,
      "outputs": []
    },
    {
      "cell_type": "markdown",
      "source": [
        "##a- Intent Classification (Kader)"
      ],
      "metadata": {
        "id": "K9KGHFw0C7bH"
      }
    },
    {
      "cell_type": "markdown",
      "source": [
        "Intenet component is reponsible for predicting the intent of a text. This component have two end-points: \n",
        "- /predict: Which takes a text as an input and perform the preprocessing as well as prediction of intent and returns an intent.\n",
        "- /train: which perform a training of a new model,"
      ],
      "metadata": {
        "id": "OGOVr8VFFiUk"
      }
    },
    {
      "cell_type": "code",
      "source": [
        ""
      ],
      "metadata": {
        "id": "4GlX0E_ZC_47"
      },
      "execution_count": null,
      "outputs": []
    },
    {
      "cell_type": "markdown",
      "source": [
        "##b- Name Entity recognition ( Rosmin )"
      ],
      "metadata": {
        "id": "RkFFhdLuDAbs"
      }
    },
    {
      "cell_type": "code",
      "source": [
        ""
      ],
      "metadata": {
        "id": "3RZkMJ2eDIsZ"
      },
      "execution_count": null,
      "outputs": []
    },
    {
      "cell_type": "markdown",
      "source": [
        "##c- Dialogue Flow (Sanchit)"
      ],
      "metadata": {
        "id": "qrhhJe_lDJKZ"
      }
    },
    {
      "cell_type": "code",
      "source": [
        ""
      ],
      "metadata": {
        "id": "c9bAHcXhDMY5"
      },
      "execution_count": null,
      "outputs": []
    },
    {
      "cell_type": "markdown",
      "source": [
        "##d- Chatbot response component (Sanchit)\n"
      ],
      "metadata": {
        "id": "qyhVnv9ADM-g"
      }
    },
    {
      "cell_type": "code",
      "source": [
        ""
      ],
      "metadata": {
        "id": "VBDNqkj-DXjB"
      },
      "execution_count": null,
      "outputs": []
    },
    {
      "cell_type": "markdown",
      "source": [
        "#**3- Testing of Chatbot:** (Gopi)\n",
        "Build some functionality to perform testing on the deployed endpoint (i.e., some client function to consume the service via HTTP) and document your process and findings in the notebook. For example, in a “test” notebook you could show how to: a. initiate the chatbot (maybe some greeting like “hi”) b. make different types or requests (i.e., different intents) c. try to confuse it and see the reaction d. try to override a previous entry (for example changing the booking time to a different one) e. show a completed successful request (e.g., a booking, order, troubleshooting, etc.)"
      ],
      "metadata": {
        "id": "nY9pH7LHDZfL"
      }
    },
    {
      "cell_type": "code",
      "source": [
        ""
      ],
      "metadata": {
        "id": "skgbrC-jDvbs"
      },
      "execution_count": null,
      "outputs": []
    },
    {
      "cell_type": "markdown",
      "source": [
        "#**4- Performance of Chatbot** (Gopi)\n",
        "\n",
        "Discuss the performance of the chatbot service you implemented (i.e., perform some stretch\n",
        "testing), and justify the good and bad points"
      ],
      "metadata": {
        "id": "BY8JchtCELA6"
      }
    },
    {
      "cell_type": "code",
      "source": [
        ""
      ],
      "metadata": {
        "id": "HTep6I0TEbHo"
      },
      "execution_count": null,
      "outputs": []
    },
    {
      "cell_type": "markdown",
      "source": [
        "#**5- Monitoring capability (log file)** (Kader)\n",
        "\n",
        "Build some basic monitoring capability to capture user inputs and the model predictions,\n",
        "and store those in a log file. There is no need to build functionality that will detect any\n",
        "concept drift"
      ],
      "metadata": {
        "id": "nReWQJXmEd4B"
      }
    },
    {
      "cell_type": "code",
      "source": [
        ""
      ],
      "metadata": {
        "id": "8H4A7B1iEpHF"
      },
      "execution_count": null,
      "outputs": []
    },
    {
      "cell_type": "markdown",
      "source": [
        "#**6- CI/CD Pipeline:** (Vankat)\n",
        "\n",
        "Build a basic CI/CD pipeline that will build and deploy the chatbot components when data or\n",
        "code changes. There is no need to trigger this automatically, so a manually executed script\n",
        "will suffice."
      ],
      "metadata": {
        "id": "1TUH_Xj2Er1j"
      }
    },
    {
      "cell_type": "code",
      "source": [
        ""
      ],
      "metadata": {
        "id": "ykTNERrtE0uf"
      },
      "execution_count": null,
      "outputs": []
    },
    {
      "cell_type": "markdown",
      "source": [
        "#**7-Link to 10 min screen recording demo** (Sanchit and Kader)"
      ],
      "metadata": {
        "id": "vFWyJwlbE90t"
      }
    },
    {
      "cell_type": "code",
      "source": [
        ""
      ],
      "metadata": {
        "id": "_wyUgxtaFMQz"
      },
      "execution_count": null,
      "outputs": []
    },
    {
      "cell_type": "markdown",
      "source": [
        "**Submission Deadline: 25 Mai**"
      ],
      "metadata": {
        "id": "c0Ln-W6-FRbt"
      }
    },
    {
      "cell_type": "code",
      "source": [
        ""
      ],
      "metadata": {
        "id": "B_lpVbhdFWvU"
      },
      "execution_count": null,
      "outputs": []
    }
  ]
}